{
 "cells": [
  {
   "cell_type": "code",
   "execution_count": 1,
   "id": "baa63311-73cc-4fba-bc22-77789ce1b647",
   "metadata": {},
   "outputs": [],
   "source": [
    "import numpy as np\n",
    "import pandas as pd\n",
    "from openbb import obb\n",
    "obb.user.preferences.output_type = \"dataframe\""
   ]
  },
  {
   "cell_type": "code",
   "execution_count": 2,
   "id": "d1f11d44-21a5-4391-a4d8-a2965a04557f",
   "metadata": {},
   "outputs": [],
   "source": [
    "chains = obb.derivatives.options.chains(\n",
    "    \"SPY\",\n",
    "    provider=\"cboe\"\n",
    ")"
   ]
  },
  {
   "cell_type": "code",
   "execution_count": null,
   "id": "3c90810e-7320-402c-ac97-7ac34052098c",
   "metadata": {},
   "outputs": [],
   "source": []
  },
  {
   "cell_type": "code",
   "execution_count": 3,
   "id": "5a239672-e0ab-440d-9390-bae4fa2cd9a6",
   "metadata": {},
   "outputs": [
    {
     "data": {
      "text/plain": [
       "option_type  strike  expiration\n",
       "call         120.0   2024-12-20    104\n",
       "             130.0   2024-12-20     20\n",
       "             140.0   2024-12-20      3\n",
       "             150.0   2024-09-20     66\n",
       "                     2024-12-20     18\n",
       "                                  ... \n",
       "put          840.0   2026-01-16      0\n",
       "                     2026-06-18      0\n",
       "                     2026-12-18      0\n",
       "             845.0   2026-06-18      0\n",
       "                     2026-12-18      0\n",
       "Name: open_interest, Length: 9800, dtype: int64"
      ]
     },
     "execution_count": 3,
     "metadata": {},
     "output_type": "execute_result"
    }
   ],
   "source": [
    "(\n",
    "    chains\n",
    "    .groupby(\n",
    "        [\"option_type\", \"strike\", \"expiration\"]\n",
    "    )\n",
    "    .open_interest\n",
    "    .sum()\n",
    ")"
   ]
  },
  {
   "cell_type": "code",
   "execution_count": 4,
   "id": "39f3a6fd-3111-4972-aa74-938e862d984e",
   "metadata": {},
   "outputs": [],
   "source": [
    "#“Applying different methods to different columns”"
   ]
  },
  {
   "cell_type": "code",
   "execution_count": 5,
   "id": "e0b0d6c3-1afd-488b-af2c-526f3e2299fa",
   "metadata": {},
   "outputs": [
    {
     "data": {
      "text/html": [
       "<div>\n",
       "<style scoped>\n",
       "    .dataframe tbody tr th:only-of-type {\n",
       "        vertical-align: middle;\n",
       "    }\n",
       "\n",
       "    .dataframe tbody tr th {\n",
       "        vertical-align: top;\n",
       "    }\n",
       "\n",
       "    .dataframe thead th {\n",
       "        text-align: right;\n",
       "    }\n",
       "</style>\n",
       "<table border=\"1\" class=\"dataframe\">\n",
       "  <thead>\n",
       "    <tr style=\"text-align: right;\">\n",
       "      <th></th>\n",
       "      <th></th>\n",
       "      <th></th>\n",
       "      <th>last_trade_price</th>\n",
       "      <th>open_interest</th>\n",
       "    </tr>\n",
       "    <tr>\n",
       "      <th>option_type</th>\n",
       "      <th>strike</th>\n",
       "      <th>expiration</th>\n",
       "      <th></th>\n",
       "      <th></th>\n",
       "    </tr>\n",
       "  </thead>\n",
       "  <tbody>\n",
       "    <tr>\n",
       "      <th rowspan=\"5\" valign=\"top\">call</th>\n",
       "      <th>120.0</th>\n",
       "      <th>2024-12-20</th>\n",
       "      <td>442.26</td>\n",
       "      <td>104</td>\n",
       "    </tr>\n",
       "    <tr>\n",
       "      <th>130.0</th>\n",
       "      <th>2024-12-20</th>\n",
       "      <td>420.41</td>\n",
       "      <td>20</td>\n",
       "    </tr>\n",
       "    <tr>\n",
       "      <th>140.0</th>\n",
       "      <th>2024-12-20</th>\n",
       "      <td>0.00</td>\n",
       "      <td>3</td>\n",
       "    </tr>\n",
       "    <tr>\n",
       "      <th rowspan=\"2\" valign=\"top\">150.0</th>\n",
       "      <th>2024-09-20</th>\n",
       "      <td>411.06</td>\n",
       "      <td>66</td>\n",
       "    </tr>\n",
       "    <tr>\n",
       "      <th>2024-12-20</th>\n",
       "      <td>0.00</td>\n",
       "      <td>18</td>\n",
       "    </tr>\n",
       "    <tr>\n",
       "      <th>...</th>\n",
       "      <th>...</th>\n",
       "      <th>...</th>\n",
       "      <td>...</td>\n",
       "      <td>...</td>\n",
       "    </tr>\n",
       "    <tr>\n",
       "      <th rowspan=\"5\" valign=\"top\">put</th>\n",
       "      <th rowspan=\"3\" valign=\"top\">840.0</th>\n",
       "      <th>2026-01-16</th>\n",
       "      <td>0.00</td>\n",
       "      <td>0</td>\n",
       "    </tr>\n",
       "    <tr>\n",
       "      <th>2026-06-18</th>\n",
       "      <td>0.00</td>\n",
       "      <td>0</td>\n",
       "    </tr>\n",
       "    <tr>\n",
       "      <th>2026-12-18</th>\n",
       "      <td>0.00</td>\n",
       "      <td>0</td>\n",
       "    </tr>\n",
       "    <tr>\n",
       "      <th rowspan=\"2\" valign=\"top\">845.0</th>\n",
       "      <th>2026-06-18</th>\n",
       "      <td>0.00</td>\n",
       "      <td>0</td>\n",
       "    </tr>\n",
       "    <tr>\n",
       "      <th>2026-12-18</th>\n",
       "      <td>0.00</td>\n",
       "      <td>0</td>\n",
       "    </tr>\n",
       "  </tbody>\n",
       "</table>\n",
       "<p>9800 rows × 2 columns</p>\n",
       "</div>"
      ],
      "text/plain": [
       "                               last_trade_price  open_interest\n",
       "option_type strike expiration                                 \n",
       "call        120.0  2024-12-20            442.26            104\n",
       "            130.0  2024-12-20            420.41             20\n",
       "            140.0  2024-12-20              0.00              3\n",
       "            150.0  2024-09-20            411.06             66\n",
       "                   2024-12-20              0.00             18\n",
       "...                                         ...            ...\n",
       "put         840.0  2026-01-16              0.00              0\n",
       "                   2026-06-18              0.00              0\n",
       "                   2026-12-18              0.00              0\n",
       "            845.0  2026-06-18              0.00              0\n",
       "                   2026-12-18              0.00              0\n",
       "\n",
       "[9800 rows x 2 columns]"
      ]
     },
     "execution_count": 5,
     "metadata": {},
     "output_type": "execute_result"
    }
   ],
   "source": [
    "(\n",
    "    chains\n",
    "    .groupby(\n",
    "        [\"option_type\", \"strike\", \"expiration\"]\n",
    "    )\n",
    "    .agg({\n",
    "        \"last_trade_price\": \"max\",\n",
    "        \"open_interest\": \"sum\"\n",
    "    })\n",
    ")"
   ]
  },
  {
   "cell_type": "code",
   "execution_count": 7,
   "id": "ad2a243a-6c1f-41d2-ae78-6a7eb4acb9d0",
   "metadata": {},
   "outputs": [],
   "source": [
    "#Applying custom functions"
   ]
  },
  {
   "cell_type": "code",
   "execution_count": 8,
   "id": "2f4423e1-f010-4496-8da1-e21ae550edaf",
   "metadata": {},
   "outputs": [
    {
     "data": {
      "text/plain": [
       "option_type\n",
       "call    0.980753\n",
       "put     0.517578\n",
       "dtype: float64"
      ]
     },
     "execution_count": 8,
     "metadata": {},
     "output_type": "execute_result"
    }
   ],
   "source": [
    "(\n",
    "    chains\n",
    "    .groupby([\"option_type\"])\n",
    "    .apply(lambda x: (x[\"ask\"] - x[\"bid\"]).mean(),\n",
    "           include_groups=False)\n",
    ")"
   ]
  },
  {
   "cell_type": "code",
   "execution_count": 10,
   "id": "ccf11acb-4f9c-4f33-8b98-2369b66056ca",
   "metadata": {},
   "outputs": [],
   "source": [
    "# Grouping and transforming data\n",
    "'''\n",
    "transform: Used after groupby to return a Series with the same shape as the original DataFrame.\n",
    "Replaces: Each group with the value from a method applied to that group.\n",
    "Example: Compute the z-score of last_trade_price within each expiration date group.\n",
    "Result: A Series of the same length as chains, where last_trade_price is replaced with its z-score value within each expiration date group.\n",
    "Use case: The z-score puts all the prices on the same scale relative to their specific group, enabling comparisons.\n",
    "'''"
   ]
  },
  {
   "cell_type": "code",
   "execution_count": null,
   "id": "85f37c81-e3ef-49c2-b2bc-f1261104c613",
   "metadata": {},
   "outputs": [],
   "source": []
  }
 ],
 "metadata": {
  "kernelspec": {
   "display_name": "Python 3 (ipykernel)",
   "language": "python",
   "name": "python3"
  },
  "language_info": {
   "codemirror_mode": {
    "name": "ipython",
    "version": 3
   },
   "file_extension": ".py",
   "mimetype": "text/x-python",
   "name": "python",
   "nbconvert_exporter": "python",
   "pygments_lexer": "ipython3",
   "version": "3.10.14"
  }
 },
 "nbformat": 4,
 "nbformat_minor": 5
}
