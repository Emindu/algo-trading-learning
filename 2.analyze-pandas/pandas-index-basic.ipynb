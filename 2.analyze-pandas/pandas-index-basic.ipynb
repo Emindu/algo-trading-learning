{
 "cells": [
  {
   "cell_type": "code",
   "execution_count": 22,
   "id": "4dcecd0f-96fa-4b4b-84a5-6182335ccfe4",
   "metadata": {},
   "outputs": [],
   "source": [
    "import pandas as pd\n",
    "import numpy as np"
   ]
  },
  {
   "cell_type": "code",
   "execution_count": 2,
   "id": "d85ac6d8-9f49-4367-a2fc-a34cf9acb39f",
   "metadata": {},
   "outputs": [],
   "source": [
    "idx_1 = pd.Index([0, 1, 2, 3, 4, 5, 6, 7, 8, 9])"
   ]
  },
  {
   "cell_type": "code",
   "execution_count": 3,
   "id": "1e566cb7-0901-4fcf-b2df-029f35c3b787",
   "metadata": {},
   "outputs": [
    {
     "name": "stdout",
     "output_type": "stream",
     "text": [
      "Index([0, 1, 2, 3, 4, 5, 6, 7, 8, 9], dtype='int64')\n"
     ]
    }
   ],
   "source": [
    "print(idx_1)"
   ]
  },
  {
   "cell_type": "code",
   "execution_count": 4,
   "id": "282cc374-e910-47eb-b874-00980700bb4c",
   "metadata": {},
   "outputs": [],
   "source": [
    "#DatetimeIndex with day as freq"
   ]
  },
  {
   "cell_type": "code",
   "execution_count": 5,
   "id": "3a1d6448-b978-4d33-9da2-4b586ee51f06",
   "metadata": {},
   "outputs": [],
   "source": [
    "days = pd.date_range(\"2016-01-01\", periods=6, freq=\"D\")"
   ]
  },
  {
   "cell_type": "code",
   "execution_count": 6,
   "id": "7ddef4f1-ea60-46f1-a851-fc4440ff00b7",
   "metadata": {},
   "outputs": [
    {
     "name": "stdout",
     "output_type": "stream",
     "text": [
      "DatetimeIndex(['2016-01-01', '2016-01-02', '2016-01-03', '2016-01-04',\n",
      "               '2016-01-05', '2016-01-06'],\n",
      "              dtype='datetime64[ns]', freq='D')\n"
     ]
    }
   ],
   "source": [
    "print(days)"
   ]
  },
  {
   "cell_type": "code",
   "execution_count": 7,
   "id": "4b9c7cea-dffb-49b8-9c6d-db128e1e55b3",
   "metadata": {},
   "outputs": [],
   "source": [
    "#DatatimeIndex with seconds as freq"
   ]
  },
  {
   "cell_type": "code",
   "execution_count": 24,
   "id": "b0cd8c2a-7799-4a6d-add3-8ca7188efd3c",
   "metadata": {},
   "outputs": [],
   "source": [
    "seconds = pd.date_range(\"2016-01-01\", periods=100, freq=\"s\")"
   ]
  },
  {
   "cell_type": "code",
   "execution_count": 26,
   "id": "f6c25285-30d2-478c-a966-f326286d4565",
   "metadata": {},
   "outputs": [
    {
     "name": "stdout",
     "output_type": "stream",
     "text": [
      "DatetimeIndex(['2016-01-01 00:00:00', '2016-01-01 00:00:01',\n",
      "               '2016-01-01 00:00:02', '2016-01-01 00:00:03',\n",
      "               '2016-01-01 00:00:04', '2016-01-01 00:00:05',\n",
      "               '2016-01-01 00:00:06', '2016-01-01 00:00:07',\n",
      "               '2016-01-01 00:00:08', '2016-01-01 00:00:09',\n",
      "               '2016-01-01 00:00:10', '2016-01-01 00:00:11',\n",
      "               '2016-01-01 00:00:12', '2016-01-01 00:00:13',\n",
      "               '2016-01-01 00:00:14', '2016-01-01 00:00:15',\n",
      "               '2016-01-01 00:00:16', '2016-01-01 00:00:17',\n",
      "               '2016-01-01 00:00:18', '2016-01-01 00:00:19',\n",
      "               '2016-01-01 00:00:20', '2016-01-01 00:00:21',\n",
      "               '2016-01-01 00:00:22', '2016-01-01 00:00:23',\n",
      "               '2016-01-01 00:00:24', '2016-01-01 00:00:25',\n",
      "               '2016-01-01 00:00:26', '2016-01-01 00:00:27',\n",
      "               '2016-01-01 00:00:28', '2016-01-01 00:00:29',\n",
      "               '2016-01-01 00:00:30', '2016-01-01 00:00:31',\n",
      "               '2016-01-01 00:00:32', '2016-01-01 00:00:33',\n",
      "               '2016-01-01 00:00:34', '2016-01-01 00:00:35',\n",
      "               '2016-01-01 00:00:36', '2016-01-01 00:00:37',\n",
      "               '2016-01-01 00:00:38', '2016-01-01 00:00:39',\n",
      "               '2016-01-01 00:00:40', '2016-01-01 00:00:41',\n",
      "               '2016-01-01 00:00:42', '2016-01-01 00:00:43',\n",
      "               '2016-01-01 00:00:44', '2016-01-01 00:00:45',\n",
      "               '2016-01-01 00:00:46', '2016-01-01 00:00:47',\n",
      "               '2016-01-01 00:00:48', '2016-01-01 00:00:49',\n",
      "               '2016-01-01 00:00:50', '2016-01-01 00:00:51',\n",
      "               '2016-01-01 00:00:52', '2016-01-01 00:00:53',\n",
      "               '2016-01-01 00:00:54', '2016-01-01 00:00:55',\n",
      "               '2016-01-01 00:00:56', '2016-01-01 00:00:57',\n",
      "               '2016-01-01 00:00:58', '2016-01-01 00:00:59',\n",
      "               '2016-01-01 00:01:00', '2016-01-01 00:01:01',\n",
      "               '2016-01-01 00:01:02', '2016-01-01 00:01:03',\n",
      "               '2016-01-01 00:01:04', '2016-01-01 00:01:05',\n",
      "               '2016-01-01 00:01:06', '2016-01-01 00:01:07',\n",
      "               '2016-01-01 00:01:08', '2016-01-01 00:01:09',\n",
      "               '2016-01-01 00:01:10', '2016-01-01 00:01:11',\n",
      "               '2016-01-01 00:01:12', '2016-01-01 00:01:13',\n",
      "               '2016-01-01 00:01:14', '2016-01-01 00:01:15',\n",
      "               '2016-01-01 00:01:16', '2016-01-01 00:01:17',\n",
      "               '2016-01-01 00:01:18', '2016-01-01 00:01:19',\n",
      "               '2016-01-01 00:01:20', '2016-01-01 00:01:21',\n",
      "               '2016-01-01 00:01:22', '2016-01-01 00:01:23',\n",
      "               '2016-01-01 00:01:24', '2016-01-01 00:01:25',\n",
      "               '2016-01-01 00:01:26', '2016-01-01 00:01:27',\n",
      "               '2016-01-01 00:01:28', '2016-01-01 00:01:29',\n",
      "               '2016-01-01 00:01:30', '2016-01-01 00:01:31',\n",
      "               '2016-01-01 00:01:32', '2016-01-01 00:01:33',\n",
      "               '2016-01-01 00:01:34', '2016-01-01 00:01:35',\n",
      "               '2016-01-01 00:01:36', '2016-01-01 00:01:37',\n",
      "               '2016-01-01 00:01:38', '2016-01-01 00:01:39'],\n",
      "              dtype='datetime64[ns]', freq='s')\n"
     ]
    }
   ],
   "source": [
    "print(seconds)"
   ]
  },
  {
   "cell_type": "code",
   "execution_count": 27,
   "id": "b49de78c-004e-49ce-b307-20d38736b30f",
   "metadata": {},
   "outputs": [],
   "source": [
    "#Period Index"
   ]
  },
  {
   "cell_type": "code",
   "execution_count": 28,
   "id": "fff31a97-7103-4dce-84be-f00156958b86",
   "metadata": {},
   "outputs": [],
   "source": [
    "prng = pd.period_range(\"1990Q1\", \"2000Q4\", freq=\"Q-NOV\")"
   ]
  },
  {
   "cell_type": "code",
   "execution_count": 13,
   "id": "abe41b23-41ef-438f-86e2-f70b1cb858db",
   "metadata": {},
   "outputs": [
    {
     "name": "stdout",
     "output_type": "stream",
     "text": [
      "PeriodIndex(['1990Q1', '1990Q2', '1990Q3', '1990Q4', '1991Q1', '1991Q2',\n",
      "             '1991Q3', '1991Q4', '1992Q1', '1992Q2', '1992Q3', '1992Q4',\n",
      "             '1993Q1', '1993Q2', '1993Q3', '1993Q4', '1994Q1', '1994Q2',\n",
      "             '1994Q3', '1994Q4', '1995Q1', '1995Q2', '1995Q3', '1995Q4',\n",
      "             '1996Q1', '1996Q2', '1996Q3', '1996Q4', '1997Q1', '1997Q2',\n",
      "             '1997Q3', '1997Q4', '1998Q1', '1998Q2', '1998Q3', '1998Q4',\n",
      "             '1999Q1', '1999Q2', '1999Q3', '1999Q4', '2000Q1', '2000Q2',\n",
      "             '2000Q3', '2000Q4'],\n",
      "            dtype='period[Q-NOV]')\n"
     ]
    }
   ],
   "source": [
    "print(prng)"
   ]
  },
  {
   "cell_type": "code",
   "execution_count": 14,
   "id": "96dd0419-f7ed-4a0a-95e7-77f6ebd938c7",
   "metadata": {},
   "outputs": [],
   "source": [
    "#Multi Index"
   ]
  },
  {
   "cell_type": "code",
   "execution_count": 16,
   "id": "7e8c8373-7cf1-4624-a452-e67d47bdd6c2",
   "metadata": {},
   "outputs": [],
   "source": [
    "tuples = [\n",
    "    (pd.Timestamp(\"2023-07-10\"), \"WMT\"),\n",
    "    (pd.Timestamp(\"2023-07-10\"), \"JPM\"),\n",
    "    (pd.Timestamp(\"2023-07-10\"), \"TGT\"),\n",
    "    (pd.Timestamp(\"2023-07-11\"), \"WMT\"),\n",
    "    (pd.Timestamp(\"2023-07-11\"), \"JPM\"),\n",
    "    (pd.Timestamp(\"2023-07-11\"), \"TGT\"),\n",
    "]\n",
    "midx = pd.MultiIndex.from_tuples(\n",
    "    tuples,\n",
    "    names=(\"date\", \"symbol\")\n",
    ")"
   ]
  },
  {
   "cell_type": "code",
   "execution_count": 17,
   "id": "35e6fd2d-897d-4ed0-9396-8493054b3fea",
   "metadata": {},
   "outputs": [
    {
     "name": "stdout",
     "output_type": "stream",
     "text": [
      "MultiIndex([('2023-07-10', 'WMT'),\n",
      "            ('2023-07-10', 'JPM'),\n",
      "            ('2023-07-10', 'TGT'),\n",
      "            ('2023-07-11', 'WMT'),\n",
      "            ('2023-07-11', 'JPM'),\n",
      "            ('2023-07-11', 'TGT')],\n",
      "           names=['date', 'symbol'])\n"
     ]
    }
   ],
   "source": [
    "print(midx)"
   ]
  },
  {
   "cell_type": "code",
   "execution_count": 29,
   "id": "a39e9446-bf19-49f3-92f2-936ebabc7fdb",
   "metadata": {},
   "outputs": [],
   "source": [
    "#creating series \n",
    "\n",
    "def rnd():\n",
    "    return np.random.randn(100,)\n",
    "\n",
    "s_1 = pd.Series(rnd(), index=seconds)\n",
    "s_2 = pd.Series(rnd(), index=seconds)\n",
    "s_3 = pd.Series(rnd(), index=seconds)"
   ]
  },
  {
   "cell_type": "code",
   "execution_count": 30,
   "id": "cae52666-db9a-4448-a32b-324e9061b7f6",
   "metadata": {},
   "outputs": [],
   "source": [
    "df = pd.DataFrame({\"a\": s_1, \"b\": s_2, \"c\": s_3})"
   ]
  },
  {
   "cell_type": "code",
   "execution_count": 31,
   "id": "08d06a5f-da92-4a4d-b70d-b4e43b1a35e0",
   "metadata": {},
   "outputs": [
    {
     "data": {
      "text/html": [
       "<div>\n",
       "<style scoped>\n",
       "    .dataframe tbody tr th:only-of-type {\n",
       "        vertical-align: middle;\n",
       "    }\n",
       "\n",
       "    .dataframe tbody tr th {\n",
       "        vertical-align: top;\n",
       "    }\n",
       "\n",
       "    .dataframe thead th {\n",
       "        text-align: right;\n",
       "    }\n",
       "</style>\n",
       "<table border=\"1\" class=\"dataframe\">\n",
       "  <thead>\n",
       "    <tr style=\"text-align: right;\">\n",
       "      <th></th>\n",
       "      <th>a</th>\n",
       "      <th>b</th>\n",
       "      <th>c</th>\n",
       "    </tr>\n",
       "  </thead>\n",
       "  <tbody>\n",
       "    <tr>\n",
       "      <th>2016-01-01 00:00:00</th>\n",
       "      <td>0.843954</td>\n",
       "      <td>-1.034367</td>\n",
       "      <td>1.495174</td>\n",
       "    </tr>\n",
       "    <tr>\n",
       "      <th>2016-01-01 00:00:01</th>\n",
       "      <td>-1.071438</td>\n",
       "      <td>0.025462</td>\n",
       "      <td>-1.009017</td>\n",
       "    </tr>\n",
       "    <tr>\n",
       "      <th>2016-01-01 00:00:02</th>\n",
       "      <td>-1.094563</td>\n",
       "      <td>0.504076</td>\n",
       "      <td>1.314951</td>\n",
       "    </tr>\n",
       "    <tr>\n",
       "      <th>2016-01-01 00:00:03</th>\n",
       "      <td>0.090834</td>\n",
       "      <td>-0.124131</td>\n",
       "      <td>-1.400100</td>\n",
       "    </tr>\n",
       "    <tr>\n",
       "      <th>2016-01-01 00:00:04</th>\n",
       "      <td>-1.271704</td>\n",
       "      <td>-0.557427</td>\n",
       "      <td>1.536645</td>\n",
       "    </tr>\n",
       "    <tr>\n",
       "      <th>...</th>\n",
       "      <td>...</td>\n",
       "      <td>...</td>\n",
       "      <td>...</td>\n",
       "    </tr>\n",
       "    <tr>\n",
       "      <th>2016-01-01 00:01:35</th>\n",
       "      <td>-0.331963</td>\n",
       "      <td>0.703149</td>\n",
       "      <td>-0.259028</td>\n",
       "    </tr>\n",
       "    <tr>\n",
       "      <th>2016-01-01 00:01:36</th>\n",
       "      <td>-0.734157</td>\n",
       "      <td>2.112591</td>\n",
       "      <td>-0.593343</td>\n",
       "    </tr>\n",
       "    <tr>\n",
       "      <th>2016-01-01 00:01:37</th>\n",
       "      <td>-0.270756</td>\n",
       "      <td>-0.442510</td>\n",
       "      <td>-0.799435</td>\n",
       "    </tr>\n",
       "    <tr>\n",
       "      <th>2016-01-01 00:01:38</th>\n",
       "      <td>-0.882107</td>\n",
       "      <td>0.123115</td>\n",
       "      <td>0.114833</td>\n",
       "    </tr>\n",
       "    <tr>\n",
       "      <th>2016-01-01 00:01:39</th>\n",
       "      <td>-1.347195</td>\n",
       "      <td>-0.418381</td>\n",
       "      <td>1.396529</td>\n",
       "    </tr>\n",
       "  </tbody>\n",
       "</table>\n",
       "<p>100 rows × 3 columns</p>\n",
       "</div>"
      ],
      "text/plain": [
       "                            a         b         c\n",
       "2016-01-01 00:00:00  0.843954 -1.034367  1.495174\n",
       "2016-01-01 00:00:01 -1.071438  0.025462 -1.009017\n",
       "2016-01-01 00:00:02 -1.094563  0.504076  1.314951\n",
       "2016-01-01 00:00:03  0.090834 -0.124131 -1.400100\n",
       "2016-01-01 00:00:04 -1.271704 -0.557427  1.536645\n",
       "...                       ...       ...       ...\n",
       "2016-01-01 00:01:35 -0.331963  0.703149 -0.259028\n",
       "2016-01-01 00:01:36 -0.734157  2.112591 -0.593343\n",
       "2016-01-01 00:01:37 -0.270756 -0.442510 -0.799435\n",
       "2016-01-01 00:01:38 -0.882107  0.123115  0.114833\n",
       "2016-01-01 00:01:39 -1.347195 -0.418381  1.396529\n",
       "\n",
       "[100 rows x 3 columns]"
      ]
     },
     "execution_count": 31,
     "metadata": {},
     "output_type": "execute_result"
    }
   ],
   "source": [
    "df"
   ]
  }
 ],
 "metadata": {
  "kernelspec": {
   "display_name": "Python 3 (ipykernel)",
   "language": "python",
   "name": "python3"
  },
  "language_info": {
   "codemirror_mode": {
    "name": "ipython",
    "version": 3
   },
   "file_extension": ".py",
   "mimetype": "text/x-python",
   "name": "python",
   "nbconvert_exporter": "python",
   "pygments_lexer": "ipython3",
   "version": "3.10.14"
  }
 },
 "nbformat": 4,
 "nbformat_minor": 5
}
