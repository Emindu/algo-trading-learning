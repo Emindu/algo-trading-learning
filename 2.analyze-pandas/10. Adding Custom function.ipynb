{
 "cells": [
  {
   "cell_type": "code",
   "execution_count": 3,
   "id": "427efc0f-92e9-4d2d-9274-5f7f0f989d55",
   "metadata": {},
   "outputs": [],
   "source": [
    "import numpy as np\n",
    "import pandas as pd\n",
    "from openbb import obb\n",
    "obb.user.preferences.output_type = \"dataframe\""
   ]
  },
  {
   "cell_type": "code",
   "execution_count": 5,
   "id": "12aea376-204e-4cc2-9bf4-f484bf78bf5e",
   "metadata": {},
   "outputs": [
    {
     "data": {
      "text/plain": [
       "'\\n\\t•\\tCustom Functions in Pandas:\\n\\t•\\tAllow for applying transformations and computations that go beyond standard pandas methods.\\n\\t•\\tEssential for handling unique or complex analytical tasks.\\n\\t•\\tapply Function:\\n\\t•\\tAccepts a custom or built-in function as an argument.\\n\\t•\\tApplies this function across a DataFrame or Series.\\n\\t•\\tReturns an output containing the results of the applied function.\\n\\nThis note summarizes the flexibility and importance of using custom functions with the apply method in pandas.\\n'"
      ]
     },
     "execution_count": 5,
     "metadata": {},
     "output_type": "execute_result"
    }
   ],
   "source": [
    "'''\n",
    "\t•\tCustom Functions in Pandas:\n",
    "\t•\tAllow for applying transformations and computations that go beyond standard pandas methods.\n",
    "\t•\tEssential for handling unique or complex analytical tasks.\n",
    "\t•\tapply Function:\n",
    "\t•\tAccepts a custom or built-in function as an argument.\n",
    "\t•\tApplies this function across a DataFrame or Series.\n",
    "\t•\tReturns an output containing the results of the applied function.\n",
    "\n",
    "This note summarizes the flexibility and importance of using custom functions with the apply method in pandas.\n",
    "'''"
   ]
  },
  {
   "cell_type": "code",
   "execution_count": 8,
   "id": "77a572d8-ce1a-4c5c-8ff2-9d2e9a0a28f9",
   "metadata": {},
   "outputs": [],
   "source": [
    "df = obb.equity.price.historical(\n",
    "    \"AAPL\",\n",
    "    start_date=\"2020-07-01\",\n",
    "    end_date=\"2023-07-06\",\n",
    "    provider=\"yfinance\",\n",
    ")"
   ]
  },
  {
   "cell_type": "code",
   "execution_count": 9,
   "id": "cfcbd47c-01cb-4423-b5a4-d446e35f5db8",
   "metadata": {},
   "outputs": [
    {
     "data": {
      "text/plain": [
       "date\n",
       "2020-07-01    0.862495\n",
       "2020-07-02    1.707497\n",
       "2020-07-06    1.477501\n",
       "2020-07-07    1.597496\n",
       "2020-07-08    1.285004\n",
       "                ...   \n",
       "2023-06-29    1.130005\n",
       "2023-06-30    3.220001\n",
       "2023-07-03    2.120010\n",
       "2023-07-05    2.360001\n",
       "2023-07-06    2.820007\n",
       "Length: 758, dtype: float64"
      ]
     },
     "execution_count": 9,
     "metadata": {},
     "output_type": "execute_result"
    }
   ],
   "source": [
    "df.apply(lambda x: x[\"high\"] - x[\"low\"], axis=1)"
   ]
  },
  {
   "cell_type": "code",
   "execution_count": 11,
   "id": "c001a185-40a3-44f7-b4ac-e711c6559407",
   "metadata": {},
   "outputs": [
    {
     "data": {
      "text/plain": [
       "date\n",
       "2020-07-01    0.862495\n",
       "2020-07-02    1.707497\n",
       "2020-07-06    1.477501\n",
       "2020-07-07    1.597496\n",
       "2020-07-08    1.285004\n",
       "                ...   \n",
       "2023-06-29    1.130005\n",
       "2023-06-30    3.220001\n",
       "2023-07-03    2.120010\n",
       "2023-07-05    2.360001\n",
       "2023-07-06    2.820007\n",
       "Length: 758, dtype: float64"
      ]
     },
     "execution_count": 11,
     "metadata": {},
     "output_type": "execute_result"
    }
   ],
   "source": [
    "# apply with different method\n",
    "def fcn(row):\n",
    "    return row[\"high\"] - row[\"low\"]\n",
    "df.apply(fcn, axis=1)"
   ]
  },
  {
   "cell_type": "code",
   "execution_count": 16,
   "id": "231fa68e-91f6-46a4-b199-7aa9b5dc462e",
   "metadata": {},
   "outputs": [
    {
     "data": {
      "text/html": [
       "<div>\n",
       "<style scoped>\n",
       "    .dataframe tbody tr th:only-of-type {\n",
       "        vertical-align: middle;\n",
       "    }\n",
       "\n",
       "    .dataframe tbody tr th {\n",
       "        vertical-align: top;\n",
       "    }\n",
       "\n",
       "    .dataframe thead th {\n",
       "        text-align: right;\n",
       "    }\n",
       "</style>\n",
       "<table border=\"1\" class=\"dataframe\">\n",
       "  <thead>\n",
       "    <tr style=\"text-align: right;\">\n",
       "      <th></th>\n",
       "      <th>open</th>\n",
       "      <th>high</th>\n",
       "      <th>low</th>\n",
       "      <th>close</th>\n",
       "      <th>volume</th>\n",
       "      <th>split_ratio</th>\n",
       "      <th>dividend</th>\n",
       "      <th>valid</th>\n",
       "    </tr>\n",
       "    <tr>\n",
       "      <th>date</th>\n",
       "      <th></th>\n",
       "      <th></th>\n",
       "      <th></th>\n",
       "      <th></th>\n",
       "      <th></th>\n",
       "      <th></th>\n",
       "      <th></th>\n",
       "      <th></th>\n",
       "    </tr>\n",
       "  </thead>\n",
       "  <tbody>\n",
       "  </tbody>\n",
       "</table>\n",
       "</div>"
      ],
      "text/plain": [
       "Empty DataFrame\n",
       "Columns: [open, high, low, close, volume, split_ratio, dividend, valid]\n",
       "Index: []"
      ]
     },
     "execution_count": 16,
     "metadata": {},
     "output_type": "execute_result"
    }
   ],
   "source": [
    "df[\"valid\"] = df.apply(\n",
    "    lambda x: x[\"low\"] <= x[\"close\"] <= x[\"high\"], axis=1)\n",
    "df[df.valid == False]"
   ]
  },
  {
   "cell_type": "code",
   "execution_count": 17,
   "id": "3876a5be-670f-4415-b910-65f3f27df031",
   "metadata": {},
   "outputs": [
    {
     "data": {
      "text/plain": [
       "'\\nPandas apply Function\\n\\n\\t•\\tFlexibility:\\n\\t•\\tAccepts both anonymous lambda functions and user-defined functions.\\n\\t•\\tUseful for applying custom calculations across rows or columns of a DataFrame.\\n\\t•\\tKey Parameters:\\n\\t•\\tfunc: The function to apply to each row or column.\\n\\t•\\taxis:\\n\\t•\\t0 (index): Apply the function to each column.\\n\\t•\\t1 (columns): Apply the function to each row.\\n\\t•\\tbroadcast: Determines if the function’s output should be broadcast back onto the DataFrame.\\n\\t•\\traw:\\n\\t•\\tTrue: Function receives arrays instead of Series or DataFrames.\\n\\t•\\treduce:\\n\\t•\\tTrue: Attempts to apply reduction procedures.\\n\\t•\\tresult_type: Controls the type of output (expand, reduce, broadcast, or None).\\n\\t•\\targs: Additional positional arguments to pass to the function.\\n\\nThis note highlights how the apply function in pandas can be customized using various parameters to perform flexible data transformations.\\n\\n'"
      ]
     },
     "execution_count": 17,
     "metadata": {},
     "output_type": "execute_result"
    }
   ],
   "source": [
    "'''\n",
    "Pandas apply Function\n",
    "\n",
    "\t•\tFlexibility:\n",
    "\t•\tAccepts both anonymous lambda functions and user-defined functions.\n",
    "\t•\tUseful for applying custom calculations across rows or columns of a DataFrame.\n",
    "\t•\tKey Parameters:\n",
    "\t•\tfunc: The function to apply to each row or column.\n",
    "\t•\taxis:\n",
    "\t•\t0 (index): Apply the function to each column.\n",
    "\t•\t1 (columns): Apply the function to each row.\n",
    "\t•\tbroadcast: Determines if the function’s output should be broadcast back onto the DataFrame.\n",
    "\t•\traw:\n",
    "\t•\tTrue: Function receives arrays instead of Series or DataFrames.\n",
    "\t•\treduce:\n",
    "\t•\tTrue: Attempts to apply reduction procedures.\n",
    "\t•\tresult_type: Controls the type of output (expand, reduce, broadcast, or None).\n",
    "\t•\targs: Additional positional arguments to pass to the function.\n",
    "\n",
    "This note highlights how the apply function in pandas can be customized using various parameters to perform flexible data transformations.\n",
    "\n",
    "'''"
   ]
  },
  {
   "cell_type": "code",
   "execution_count": 18,
   "id": "13ab75ea-fe15-4252-9b74-74ffd2846edb",
   "metadata": {},
   "outputs": [],
   "source": [
    "# calling apply function with argurments\n",
    "def calculate_range(row, high_col, low_col, threshold):\n",
    "    range = row[high_col] - row[low_col]\n",
    "    return range if range > threshold else np.nan"
   ]
  },
  {
   "cell_type": "code",
   "execution_count": null,
   "id": "21f55a3b-af03-4e26-bd19-8356fef4f1bd",
   "metadata": {},
   "outputs": [],
   "source": []
  }
 ],
 "metadata": {
  "kernelspec": {
   "display_name": "Python 3 (ipykernel)",
   "language": "python",
   "name": "python3"
  },
  "language_info": {
   "codemirror_mode": {
    "name": "ipython",
    "version": 3
   },
   "file_extension": ".py",
   "mimetype": "text/x-python",
   "name": "python",
   "nbconvert_exporter": "python",
   "pygments_lexer": "ipython3",
   "version": "3.10.14"
  }
 },
 "nbformat": 4,
 "nbformat_minor": 5
}
