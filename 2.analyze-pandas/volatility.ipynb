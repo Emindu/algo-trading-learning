{
 "cells": [
  {
   "cell_type": "code",
   "execution_count": 1,
   "id": "76c153a0-c06f-4654-b43d-acd45e35860a",
   "metadata": {},
   "outputs": [],
   "source": [
    "# volatility"
   ]
  },
  {
   "cell_type": "code",
   "execution_count": 2,
   "id": "ffac23b4-88bd-4ca8-892b-b0bc4ab4b6c0",
   "metadata": {},
   "outputs": [],
   "source": [
    "import numpy as np\n",
    "import pandas as pd\n",
    "from openbb import obb\n",
    "obb.user.preferences.output_type = \"dataframe\""
   ]
  },
  {
   "cell_type": "code",
   "execution_count": 3,
   "id": "67958d6f-6fe3-4e95-be76-e9b83b9d54dd",
   "metadata": {},
   "outputs": [],
   "source": [
    "df = obb.equity.price.historical(\n",
    "    \"AAPL\",\n",
    "    start_date=\"2020-01-01\",\n",
    "    provider=\"yfinance\"\n",
    ")"
   ]
  },
  {
   "cell_type": "code",
   "execution_count": 4,
   "id": "a53e53e5-4a0d-4f59-ac3b-0e3e5f456644",
   "metadata": {},
   "outputs": [],
   "source": [
    "close = df[\"close\"]"
   ]
  },
  {
   "cell_type": "code",
   "execution_count": 5,
   "id": "264b0206-03bf-480d-9017-bd2138e4e0e7",
   "metadata": {},
   "outputs": [],
   "source": [
    "returns = close.pct_change()"
   ]
  },
  {
   "cell_type": "code",
   "execution_count": 6,
   "id": "734bd5e0-b010-46ac-84f2-eeed4f46f148",
   "metadata": {},
   "outputs": [],
   "source": [
    "std_dev = returns.dropna().std()"
   ]
  },
  {
   "cell_type": "code",
   "execution_count": 8,
   "id": "d9de5c40-57cf-4d19-8497-a0dcc4dff63c",
   "metadata": {},
   "outputs": [
    {
     "data": {
      "text/plain": [
       "0.02040977913174551"
      ]
     },
     "execution_count": 8,
     "metadata": {},
     "output_type": "execute_result"
    }
   ],
   "source": [
    "std_dev"
   ]
  },
  {
   "cell_type": "code",
   "execution_count": 14,
   "id": "2f33b05e-dd7d-40b2-b255-d87af26eaee2",
   "metadata": {},
   "outputs": [
    {
     "data": {
      "text/plain": [
       "'\\n\\t•\\tMultiplication by the square root of 252 adjusts daily standard deviation to an annual scale.\\n\\t•\\tThe number 252 represents the typical number of trading days in a year.\\n\\t•\\tVariance (the square of standard deviation) is additive over time, unlike standard deviation.\\n\\t•\\tTo annualize, daily variance is multiplied by 252 and then square-rooted to revert to standard deviation.\\n\\t•\\tThis scaling process assumes independent daily returns and respects the additive property of variance.\\n'"
      ]
     },
     "execution_count": 14,
     "metadata": {},
     "output_type": "execute_result"
    }
   ],
   "source": [
    "#under the assumption of independent daily returns.\n",
    "\n",
    "'''\n",
    "\t•\tMultiplication by the square root of 252 adjusts daily standard deviation to an annual scale.\n",
    "\t•\tThe number 252 represents the typical number of trading days in a year.\n",
    "\t•\tVariance (the square of standard deviation) is additive over time, unlike standard deviation.\n",
    "\t•\tTo annualize, daily variance is multiplied by 252 and then square-rooted to revert to standard deviation.\n",
    "\t•\tThis scaling process assumes independent daily returns and respects the additive property of variance.\n",
    "'''\n"
   ]
  },
  {
   "cell_type": "code",
   "execution_count": 7,
   "id": "ef090b3d-530a-45d7-95cc-962ff4bf3c18",
   "metadata": {},
   "outputs": [],
   "source": [
    "annualized_std_dev = std_dev * np.sqrt(252)"
   ]
  },
  {
   "cell_type": "code",
   "execution_count": 9,
   "id": "f2f3cb94-52b0-42f5-95c7-a94dfe4ac921",
   "metadata": {},
   "outputs": [
    {
     "data": {
      "text/plain": [
       "0.32399519937812643"
      ]
     },
     "execution_count": 9,
     "metadata": {},
     "output_type": "execute_result"
    }
   ],
   "source": [
    "annualized_std_dev"
   ]
  },
  {
   "cell_type": "code",
   "execution_count": 13,
   "id": "493acf97-de23-4dd4-bb53-99d7903d14b1",
   "metadata": {},
   "outputs": [
    {
     "data": {
      "text/plain": [
       "date\n",
       "2020-01-02     75.087502\n",
       "2020-01-03     74.357498\n",
       "2020-01-06     74.949997\n",
       "2020-01-07     74.597504\n",
       "2020-01-08     75.797501\n",
       "                 ...    \n",
       "2024-08-26    227.179993\n",
       "2024-08-27    228.029999\n",
       "2024-08-28    226.490005\n",
       "2024-08-29    229.789993\n",
       "2024-08-30    229.000000\n",
       "Name: close, Length: 1174, dtype: float64"
      ]
     },
     "execution_count": 13,
     "metadata": {},
     "output_type": "execute_result"
    }
   ],
   "source": [
    "close"
   ]
  },
  {
   "cell_type": "code",
   "execution_count": 15,
   "id": "02994e12-4370-4741-bd14-78926cb61029",
   "metadata": {},
   "outputs": [
    {
     "data": {
      "text/plain": [
       "'\\n\\t•\\tVolatility can be annualized to match the frequency of returns.\\n\\t•\\tFor long periods, you may work with monthly or quarterly returns.\\n\\t•\\tDaily data can be resampled to a monthly or quarterly period.\\n\\t•\\tThis adjustment ensures the volatility measure aligns with the chosen timeframe.\\n'"
      ]
     },
     "execution_count": 15,
     "metadata": {},
     "output_type": "execute_result"
    }
   ],
   "source": [
    "'''\n",
    "\t•\tVolatility can be annualized to match the frequency of returns.\n",
    "\t•\tFor long periods, you may work with monthly or quarterly returns.\n",
    "\t•\tDaily data can be resampled to a monthly or quarterly period.\n",
    "\t•\tThis adjustment ensures the volatility measure aligns with the chosen timeframe.\n",
    "'''\n"
   ]
  },
  {
   "cell_type": "code",
   "execution_count": 17,
   "id": "3539183d-1623-43e3-a60f-d08de9c92815",
   "metadata": {},
   "outputs": [
    {
     "data": {
      "text/plain": [
       "0.30423665756325935"
      ]
     },
     "execution_count": 17,
     "metadata": {},
     "output_type": "execute_result"
    }
   ],
   "source": [
    "close.index = pd.to_datetime(close.index)\n",
    "(\n",
    "    close\n",
    "    .pct_change(freq=\"ME\")\n",
    "    .dropna()\n",
    "    .std()\n",
    "    * np.sqrt(12)\n",
    ")"
   ]
  },
  {
   "cell_type": "code",
   "execution_count": 19,
   "id": "c2347af7-dd7b-4186-806b-e2858fbe98a1",
   "metadata": {},
   "outputs": [
    {
     "data": {
      "text/plain": [
       "0.38461527636615106"
      ]
     },
     "execution_count": 19,
     "metadata": {},
     "output_type": "execute_result"
    }
   ],
   "source": [
    "# Similarly, for quarters, you can pass the freq argument and multiply the standard deviation by the square root of 4:\n",
    "\n",
    "(\n",
    "    close\n",
    "    .pct_change(freq=\"QE\")\n",
    "    .dropna()\n",
    "    .std()\n",
    "    * np.sqrt(4)\n",
    ")"
   ]
  },
  {
   "cell_type": "code",
   "execution_count": 20,
   "id": "e5c6ad41-4a4e-48ea-8129-9785310e72be",
   "metadata": {},
   "outputs": [
    {
     "ename": "SyntaxError",
     "evalue": "invalid character '•' (U+2022) (4053633632.py, line 1)",
     "output_type": "error",
     "traceback": [
      "\u001b[0;36m  Cell \u001b[0;32mIn[20], line 1\u001b[0;36m\u001b[0m\n\u001b[0;31m    •\tAnalyzing historical price changes provides a broader view of price movements over time.\u001b[0m\n\u001b[0m    ^\u001b[0m\n\u001b[0;31mSyntaxError\u001b[0m\u001b[0;31m:\u001b[0m invalid character '•' (U+2022)\n"
     ]
    }
   ],
   "source": [
    "\t'''\n",
    "    •\tAnalyzing historical price changes provides a broader view of price movements over time.\n",
    "\t•\tIt’s crucial to understand both the magnitude and frequency of past price changes.\n",
    "\t•\tThe pandas rolling method can be used to calculate and plot annualized volatility over time.\n",
    "\t•\tThis approach helps visualize how volatility has changed historically.\n",
    "    '''\n"
   ]
  },
  {
   "cell_type": "code",
   "execution_count": 23,
   "id": "e0a60ee8-8d28-4b7f-bdbf-9b07ce95d8ef",
   "metadata": {},
   "outputs": [
    {
     "data": {
      "text/plain": [
       "<Axes: xlabel='date'>"
      ]
     },
     "execution_count": 23,
     "metadata": {},
     "output_type": "execute_result"
    },
    {
     "data": {
      "image/png": "[encoded data removed]",
      "text/plain": [
       "<Figure size 640x480 with 1 Axes>"
      ]
     },
     "metadata": {},
     "output_type": "display_data"
    }
   ],
   "source": [
    "(\n",
    "    close\n",
    "    .pct_change()\n",
    "    .rolling(window=22)\n",
    "    .std()\n",
    "    * np.sqrt(252)\n",
    ").plot()"
   ]
  },
  {
   "cell_type": "code",
   "execution_count": 24,
   "id": "487fdcb3-28b7-4158-91bc-93245390f91b",
   "metadata": {},
   "outputs": [],
   "source": [
    "## https://www.investopedia.com/terms/v/volatility.asp"
   ]
  }
 ],
 "metadata": {
  "kernelspec": {
   "display_name": "Python 3 (ipykernel)",
   "language": "python",
   "name": "python3"
  },
  "language_info": {
   "codemirror_mode": {
    "name": "ipython",
    "version": 3
   },
   "file_extension": ".py",
   "mimetype": "text/x-python",
   "name": "python",
   "nbconvert_exporter": "python",
   "pygments_lexer": "ipython3",
   "version": "3.10.14"
  }
 },
 "nbformat": 4,
 "nbformat_minor": 5
}
