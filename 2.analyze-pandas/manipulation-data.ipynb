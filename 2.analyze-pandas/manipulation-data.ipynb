{
 "cells": [
  {
   "cell_type": "code",
   "execution_count": 3,
   "id": "5160b2f5-cdf7-4269-862b-68424c21d34f",
   "metadata": {},
   "outputs": [],
   "source": [
    "import numpy as np\n",
    "import pandas as pd\n",
    "from openbb import obb\n",
    "obb.user.preferences.output_type = \"dataframe\""
   ]
  },
  {
   "cell_type": "code",
   "execution_count": 4,
   "id": "921b8b85-2f1d-43fd-8eb5-95c959bbf4c1",
   "metadata": {},
   "outputs": [],
   "source": [
    "asset = obb.equity.price.historical(\n",
    "    \"AAPL\",\n",
    "    provider=\"yfinance\"\n",
    ")\n",
    "benchmark = obb.equity.price.historical(\n",
    "    \"SPY\",\n",
    "    provider=\"yfinance\"\n",
    ")"
   ]
  },
  {
   "cell_type": "code",
   "execution_count": 12,
   "id": "d740dc80-1ae2-4962-8c11-0015f68d5389",
   "metadata": {},
   "outputs": [],
   "source": [
    "columns = [\n",
    "    \"open\",\n",
    "    \"high\",\n",
    "    \"low\",\n",
    "    \"close\",\n",
    "    \"volume\",\n",
    "    \"dividends\",\n",
    "    \"splits\",\n",
    "]"
   ]
  },
  {
   "cell_type": "code",
   "execution_count": 15,
   "id": "e8c065b2-66f0-4a82-b7d0-3680b2d92e01",
   "metadata": {},
   "outputs": [],
   "source": [
    "asset.columns = columns"
   ]
  },
  {
   "cell_type": "code",
   "execution_count": 16,
   "id": "65743dc5-7615-4fbd-866f-9357a7ab8fe4",
   "metadata": {},
   "outputs": [],
   "source": [
    "benchmark.columns = columns + [\"capital_gain\"]"
   ]
  },
  {
   "cell_type": "code",
   "execution_count": null,
   "id": "c3d7f8c4-a48a-441f-a9c5-1ca610e90843",
   "metadata": {},
   "outputs": [],
   "source": [
    "“asset[\"price_diff\"] = asset.close.diff()\n",
    "benchmark[\"price_diff\"] = benchmark.close.diff()"
   ]
  }
 ],
 "metadata": {
  "kernelspec": {
   "display_name": "Python 3 (ipykernel)",
   "language": "python",
   "name": "python3"
  },
  "language_info": {
   "codemirror_mode": {
    "name": "ipython",
    "version": 3
   },
   "file_extension": ".py",
   "mimetype": "text/x-python",
   "name": "python",
   "nbconvert_exporter": "python",
   "pygments_lexer": "ipython3",
   "version": "3.10.14"
  }
 },
 "nbformat": 4,
 "nbformat_minor": 5
}
