{
 "cells": [
  {
   "cell_type": "code",
   "execution_count": 1,
   "id": "c3051f5c-a3a2-4a60-9cd0-e39f0157c64c",
   "metadata": {},
   "outputs": [],
   "source": [
    "# Calculating asset returns using pandas"
   ]
  },
  {
   "cell_type": "code",
   "execution_count": 4,
   "id": "e043e15b-5050-4eea-a65a-40452c6bd2ed",
   "metadata": {},
   "outputs": [],
   "source": [
    "import numpy as np\n",
    "import pandas as pd\n",
    "from openbb import obb\n",
    "obb.user.preferences.output_type = \"dataframe\""
   ]
  },
  {
   "cell_type": "code",
   "execution_count": 6,
   "id": "ce78b98d-fd09-431a-a544-4288ee731206",
   "metadata": {},
   "outputs": [],
   "source": [
    "data = obb.equity.price.historical(\n",
    "    \"AAPL\",\n",
    "    provider=\"yfinance\"\n",
    ")"
   ]
  },
  {
   "cell_type": "code",
   "execution_count": 7,
   "id": "cd15a34c-64de-4fc1-9f5b-16dd6495cdb1",
   "metadata": {},
   "outputs": [],
   "source": [
    "df = data.loc[:, [\"close\"]]"
   ]
  },
  {
   "cell_type": "code",
   "execution_count": 8,
   "id": "f80350d3-0745-4e46-9c47-2a73c9640688",
   "metadata": {},
   "outputs": [
    {
     "data": {
      "text/html": [
       "<div>\n",
       "<style scoped>\n",
       "    .dataframe tbody tr th:only-of-type {\n",
       "        vertical-align: middle;\n",
       "    }\n",
       "\n",
       "    .dataframe tbody tr th {\n",
       "        vertical-align: top;\n",
       "    }\n",
       "\n",
       "    .dataframe thead th {\n",
       "        text-align: right;\n",
       "    }\n",
       "</style>\n",
       "<table border=\"1\" class=\"dataframe\">\n",
       "  <thead>\n",
       "    <tr style=\"text-align: right;\">\n",
       "      <th></th>\n",
       "      <th>close</th>\n",
       "    </tr>\n",
       "    <tr>\n",
       "      <th>date</th>\n",
       "      <th></th>\n",
       "    </tr>\n",
       "  </thead>\n",
       "  <tbody>\n",
       "    <tr>\n",
       "      <th>2023-09-01</th>\n",
       "      <td>189.460007</td>\n",
       "    </tr>\n",
       "    <tr>\n",
       "      <th>2023-09-05</th>\n",
       "      <td>189.699997</td>\n",
       "    </tr>\n",
       "    <tr>\n",
       "      <th>2023-09-06</th>\n",
       "      <td>182.910004</td>\n",
       "    </tr>\n",
       "    <tr>\n",
       "      <th>2023-09-07</th>\n",
       "      <td>177.559998</td>\n",
       "    </tr>\n",
       "    <tr>\n",
       "      <th>2023-09-08</th>\n",
       "      <td>178.179993</td>\n",
       "    </tr>\n",
       "    <tr>\n",
       "      <th>...</th>\n",
       "      <td>...</td>\n",
       "    </tr>\n",
       "    <tr>\n",
       "      <th>2024-08-26</th>\n",
       "      <td>227.179993</td>\n",
       "    </tr>\n",
       "    <tr>\n",
       "      <th>2024-08-27</th>\n",
       "      <td>228.029999</td>\n",
       "    </tr>\n",
       "    <tr>\n",
       "      <th>2024-08-28</th>\n",
       "      <td>226.490005</td>\n",
       "    </tr>\n",
       "    <tr>\n",
       "      <th>2024-08-29</th>\n",
       "      <td>229.789993</td>\n",
       "    </tr>\n",
       "    <tr>\n",
       "      <th>2024-08-30</th>\n",
       "      <td>229.000000</td>\n",
       "    </tr>\n",
       "  </tbody>\n",
       "</table>\n",
       "<p>251 rows × 1 columns</p>\n",
       "</div>"
      ],
      "text/plain": [
       "                 close\n",
       "date                  \n",
       "2023-09-01  189.460007\n",
       "2023-09-05  189.699997\n",
       "2023-09-06  182.910004\n",
       "2023-09-07  177.559998\n",
       "2023-09-08  178.179993\n",
       "...                ...\n",
       "2024-08-26  227.179993\n",
       "2024-08-27  228.029999\n",
       "2024-08-28  226.490005\n",
       "2024-08-29  229.789993\n",
       "2024-08-30  229.000000\n",
       "\n",
       "[251 rows x 1 columns]"
      ]
     },
     "execution_count": 8,
     "metadata": {},
     "output_type": "execute_result"
    }
   ],
   "source": [
    "df"
   ]
  },
  {
   "cell_type": "code",
   "execution_count": 10,
   "id": "2b6fc8fb-1ee7-4ff0-9259-2a99c17104e3",
   "metadata": {},
   "outputs": [],
   "source": [
    "df[\"simple\"] = df[\"close\"].pct_change()\n",
    "df[\"compound\"] = np.log(\n",
    "    df[\"close\"] / df[\"close\"].shift()\n",
    ")"
   ]
  },
  {
   "cell_type": "code",
   "execution_count": 11,
   "id": "0bbed615-050e-4cbc-ae4a-ee8834744501",
   "metadata": {},
   "outputs": [
    {
     "data": {
      "text/html": [
       "<div>\n",
       "<style scoped>\n",
       "    .dataframe tbody tr th:only-of-type {\n",
       "        vertical-align: middle;\n",
       "    }\n",
       "\n",
       "    .dataframe tbody tr th {\n",
       "        vertical-align: top;\n",
       "    }\n",
       "\n",
       "    .dataframe thead th {\n",
       "        text-align: right;\n",
       "    }\n",
       "</style>\n",
       "<table border=\"1\" class=\"dataframe\">\n",
       "  <thead>\n",
       "    <tr style=\"text-align: right;\">\n",
       "      <th></th>\n",
       "      <th>close</th>\n",
       "      <th>simple</th>\n",
       "      <th>compound</th>\n",
       "    </tr>\n",
       "    <tr>\n",
       "      <th>date</th>\n",
       "      <th></th>\n",
       "      <th></th>\n",
       "      <th></th>\n",
       "    </tr>\n",
       "  </thead>\n",
       "  <tbody>\n",
       "    <tr>\n",
       "      <th>2023-09-01</th>\n",
       "      <td>189.460007</td>\n",
       "      <td>NaN</td>\n",
       "      <td>NaN</td>\n",
       "    </tr>\n",
       "    <tr>\n",
       "      <th>2023-09-05</th>\n",
       "      <td>189.699997</td>\n",
       "      <td>0.001267</td>\n",
       "      <td>0.001266</td>\n",
       "    </tr>\n",
       "    <tr>\n",
       "      <th>2023-09-06</th>\n",
       "      <td>182.910004</td>\n",
       "      <td>-0.035793</td>\n",
       "      <td>-0.036450</td>\n",
       "    </tr>\n",
       "    <tr>\n",
       "      <th>2023-09-07</th>\n",
       "      <td>177.559998</td>\n",
       "      <td>-0.029249</td>\n",
       "      <td>-0.029686</td>\n",
       "    </tr>\n",
       "    <tr>\n",
       "      <th>2023-09-08</th>\n",
       "      <td>178.179993</td>\n",
       "      <td>0.003492</td>\n",
       "      <td>0.003486</td>\n",
       "    </tr>\n",
       "    <tr>\n",
       "      <th>...</th>\n",
       "      <td>...</td>\n",
       "      <td>...</td>\n",
       "      <td>...</td>\n",
       "    </tr>\n",
       "    <tr>\n",
       "      <th>2024-08-26</th>\n",
       "      <td>227.179993</td>\n",
       "      <td>0.001499</td>\n",
       "      <td>0.001498</td>\n",
       "    </tr>\n",
       "    <tr>\n",
       "      <th>2024-08-27</th>\n",
       "      <td>228.029999</td>\n",
       "      <td>0.003742</td>\n",
       "      <td>0.003735</td>\n",
       "    </tr>\n",
       "    <tr>\n",
       "      <th>2024-08-28</th>\n",
       "      <td>226.490005</td>\n",
       "      <td>-0.006753</td>\n",
       "      <td>-0.006776</td>\n",
       "    </tr>\n",
       "    <tr>\n",
       "      <th>2024-08-29</th>\n",
       "      <td>229.789993</td>\n",
       "      <td>0.014570</td>\n",
       "      <td>0.014465</td>\n",
       "    </tr>\n",
       "    <tr>\n",
       "      <th>2024-08-30</th>\n",
       "      <td>229.000000</td>\n",
       "      <td>-0.003438</td>\n",
       "      <td>-0.003444</td>\n",
       "    </tr>\n",
       "  </tbody>\n",
       "</table>\n",
       "<p>251 rows × 3 columns</p>\n",
       "</div>"
      ],
      "text/plain": [
       "                 close    simple  compound\n",
       "date                                      \n",
       "2023-09-01  189.460007       NaN       NaN\n",
       "2023-09-05  189.699997  0.001267  0.001266\n",
       "2023-09-06  182.910004 -0.035793 -0.036450\n",
       "2023-09-07  177.559998 -0.029249 -0.029686\n",
       "2023-09-08  178.179993  0.003492  0.003486\n",
       "...                ...       ...       ...\n",
       "2024-08-26  227.179993  0.001499  0.001498\n",
       "2024-08-27  228.029999  0.003742  0.003735\n",
       "2024-08-28  226.490005 -0.006753 -0.006776\n",
       "2024-08-29  229.789993  0.014570  0.014465\n",
       "2024-08-30  229.000000 -0.003438 -0.003444\n",
       "\n",
       "[251 rows x 3 columns]"
      ]
     },
     "execution_count": 11,
     "metadata": {},
     "output_type": "execute_result"
    }
   ],
   "source": [
    "df"
   ]
  },
  {
   "cell_type": "code",
   "execution_count": 14,
   "id": "409caf25-a13b-46b7-8cb9-7f5fa7c1cef4",
   "metadata": {},
   "outputs": [
    {
     "data": {
      "text/plain": [
       "date\n",
       "2023-09-01         NaN\n",
       "2023-09-05         NaN\n",
       "2023-09-06         NaN\n",
       "2023-09-07   -0.062810\n",
       "2023-09-08   -0.060727\n",
       "                ...   \n",
       "2024-08-26    0.003445\n",
       "2024-08-27    0.015588\n",
       "2024-08-28   -0.001543\n",
       "2024-08-29    0.011489\n",
       "2024-08-30    0.004254\n",
       "Name: close, Length: 251, dtype: float64"
      ]
     },
     "execution_count": 14,
     "metadata": {},
     "output_type": "execute_result"
    }
   ],
   "source": [
    "#More\n",
    "# adding periods for pct-change\n",
    "df[\"close\"].pct_change(periods=3)"
   ]
  },
  {
   "cell_type": "code",
   "execution_count": 15,
   "id": "8c3cee0f-bd5c-499f-8eef-2cec3f167deb",
   "metadata": {},
   "outputs": [],
   "source": [
    "#adding shift\n",
    "“np.log(df[\"close\"] / df[\"close\"].shift(3))”\n",
    "\n",
    "Excerpt From\n",
    "Python for Algorithmic Trading Cookbook\n",
    "Jason Strimpel\n",
    "This material may be protected by copyright."
   ]
  },
  {
   "cell_type": "code",
   "execution_count": null,
   "id": "d27f752e-e1ba-46f2-a00c-6806b0d89025",
   "metadata": {},
   "outputs": [],
   "source": []
  }
 ],
 "metadata": {
  "kernelspec": {
   "display_name": "Python 3 (ipykernel)",
   "language": "python",
   "name": "python3"
  },
  "language_info": {
   "codemirror_mode": {
    "name": "ipython",
    "version": 3
   },
   "file_extension": ".py",
   "mimetype": "text/x-python",
   "name": "python",
   "nbconvert_exporter": "python",
   "pygments_lexer": "ipython3",
   "version": "3.10.14"
  }
 },
 "nbformat": 4,
 "nbformat_minor": 5
}
