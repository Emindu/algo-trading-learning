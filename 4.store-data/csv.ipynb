{
 "cells": [
  {
   "cell_type": "code",
   "execution_count": 1,
   "id": "16a39163-9a62-4268-9423-c49884881f47",
   "metadata": {},
   "outputs": [],
   "source": [
    "import pandas as pd\n",
    "from openbb import obb"
   ]
  },
  {
   "cell_type": "code",
   "execution_count": 2,
   "id": "c63f4754-f694-4454-a754-78d74cc6ec52",
   "metadata": {},
   "outputs": [],
   "source": [
    "obb.user.preferences.output_type = \"dataframe\""
   ]
  },
  {
   "cell_type": "code",
   "execution_count": 3,
   "id": "c2c9ec33-ec65-4ea6-ae1d-80b664507a6d",
   "metadata": {},
   "outputs": [],
   "source": [
    "def get_stock_data(symbol, start_date=None, end_date=None):\n",
    "    data = obb.equity.price.historical(\n",
    "        symbol,\n",
    "        start_date=start_date,\n",
    "        end_date=end_date,\n",
    "        provider=\"yfinance\",\n",
    "    )\n",
    "    data.reset_index(inplace=True)\n",
    "    data[\"symbol\"] = symbol\n",
    "    return data"
   ]
  },
  {
   "cell_type": "code",
   "execution_count": 4,
   "id": "dba632c8-e9fe-4af0-8cb4-169699deb1bf",
   "metadata": {},
   "outputs": [],
   "source": [
    "def save_data_range(symbol, start_date=None, end_date=None):\n",
    "    data = get_stock_data(symbol, start_date, end_date)\n",
    "    data.to_csv(f\"{symbol}.gz\", compression=\"gzip\", index=False)"
   ]
  },
  {
   "cell_type": "code",
   "execution_count": 5,
   "id": "4afb8fcf-a638-4398-a523-71ef80889e49",
   "metadata": {},
   "outputs": [],
   "source": [
    "def get_data(symbol):\n",
    "    return pd.read_csv(\n",
    "        f\"{symbol}.gz\",\n",
    "        compression=\"gzip\",\n",
    "        index_col=\"date\",\n",
    "        usecols=[\"date\", \"open\", \"high\", \"low\", \"close\", \"volume\", \"symbol\"],\n",
    "    )"
   ]
  },
  {
   "cell_type": "code",
   "execution_count": 6,
   "id": "fd2c1fb2-1bb1-4614-b114-a00b92e8e99b",
   "metadata": {},
   "outputs": [],
   "source": [
    "save_data_range(\"PLTR\")"
   ]
  },
  {
   "cell_type": "code",
   "execution_count": 7,
   "id": "07db245e-d5e4-4122-8b9d-ccbb7c313b4f",
   "metadata": {},
   "outputs": [],
   "source": [
    "pltr = get_data(\"PLTR\")"
   ]
  },
  {
   "cell_type": "code",
   "execution_count": 8,
   "id": "aa0f58fb-d29f-45f0-bfe0-357aa8743f74",
   "metadata": {},
   "outputs": [],
   "source": [
    "pltr.to_csv(\"market_data.csv\")"
   ]
  },
  {
   "cell_type": "code",
   "execution_count": 9,
   "id": "7cfd5596-5696-49db-a79b-17ed760a2702",
   "metadata": {},
   "outputs": [],
   "source": [
    "pltr.to_csv(\"market_data.tsv\", sep=\"\\t\")"
   ]
  },
  {
   "cell_type": "code",
   "execution_count": 10,
   "id": "3aa31ca1-90c4-4d34-993d-899a2f172e1b",
   "metadata": {},
   "outputs": [],
   "source": [
    "#Save specific columns of 'df' to a CSV file\n",
    "\n",
    "pltr.to_csv(\"market_data.csv\", columns=[\"open\", \"close\"])"
   ]
  },
  {
   "cell_type": "code",
   "execution_count": 12,
   "id": "4c70ddd4-e210-407e-b31f-753c34f63fd7",
   "metadata": {},
   "outputs": [
    {
     "data": {
      "text/html": [
       "<div>\n",
       "<style scoped>\n",
       "    .dataframe tbody tr th:only-of-type {\n",
       "        vertical-align: middle;\n",
       "    }\n",
       "\n",
       "    .dataframe tbody tr th {\n",
       "        vertical-align: top;\n",
       "    }\n",
       "\n",
       "    .dataframe thead th {\n",
       "        text-align: right;\n",
       "    }\n",
       "</style>\n",
       "<table border=\"1\" class=\"dataframe\">\n",
       "  <thead>\n",
       "    <tr style=\"text-align: right;\">\n",
       "      <th></th>\n",
       "      <th>date</th>\n",
       "      <th>open</th>\n",
       "      <th>close</th>\n",
       "    </tr>\n",
       "  </thead>\n",
       "  <tbody>\n",
       "    <tr>\n",
       "      <th>0</th>\n",
       "      <td>2023-09-11</td>\n",
       "      <td>15.41</td>\n",
       "      <td>15.79</td>\n",
       "    </tr>\n",
       "    <tr>\n",
       "      <th>1</th>\n",
       "      <td>2023-09-12</td>\n",
       "      <td>15.46</td>\n",
       "      <td>15.59</td>\n",
       "    </tr>\n",
       "    <tr>\n",
       "      <th>2</th>\n",
       "      <td>2023-09-13</td>\n",
       "      <td>15.63</td>\n",
       "      <td>15.60</td>\n",
       "    </tr>\n",
       "    <tr>\n",
       "      <th>3</th>\n",
       "      <td>2023-09-14</td>\n",
       "      <td>15.69</td>\n",
       "      <td>15.83</td>\n",
       "    </tr>\n",
       "    <tr>\n",
       "      <th>4</th>\n",
       "      <td>2023-09-15</td>\n",
       "      <td>15.77</td>\n",
       "      <td>15.33</td>\n",
       "    </tr>\n",
       "    <tr>\n",
       "      <th>5</th>\n",
       "      <td>2023-09-18</td>\n",
       "      <td>15.18</td>\n",
       "      <td>15.46</td>\n",
       "    </tr>\n",
       "    <tr>\n",
       "      <th>6</th>\n",
       "      <td>2023-09-19</td>\n",
       "      <td>15.34</td>\n",
       "      <td>15.15</td>\n",
       "    </tr>\n",
       "    <tr>\n",
       "      <th>7</th>\n",
       "      <td>2023-09-20</td>\n",
       "      <td>15.25</td>\n",
       "      <td>14.74</td>\n",
       "    </tr>\n",
       "    <tr>\n",
       "      <th>8</th>\n",
       "      <td>2023-09-21</td>\n",
       "      <td>14.34</td>\n",
       "      <td>14.00</td>\n",
       "    </tr>\n",
       "    <tr>\n",
       "      <th>9</th>\n",
       "      <td>2023-09-22</td>\n",
       "      <td>14.23</td>\n",
       "      <td>14.13</td>\n",
       "    </tr>\n",
       "  </tbody>\n",
       "</table>\n",
       "</div>"
      ],
      "text/plain": [
       "         date   open  close\n",
       "0  2023-09-11  15.41  15.79\n",
       "1  2023-09-12  15.46  15.59\n",
       "2  2023-09-13  15.63  15.60\n",
       "3  2023-09-14  15.69  15.83\n",
       "4  2023-09-15  15.77  15.33\n",
       "5  2023-09-18  15.18  15.46\n",
       "6  2023-09-19  15.34  15.15\n",
       "7  2023-09-20  15.25  14.74\n",
       "8  2023-09-21  14.34  14.00\n",
       "9  2023-09-22  14.23  14.13"
      ]
     },
     "execution_count": 12,
     "metadata": {},
     "output_type": "execute_result"
    }
   ],
   "source": [
    "# Read the first 10 rows of the CSV file\n",
    "\n",
    "pltr = pd.read_csv(\"market_data.csv\", nrows=10)\n",
    "pltr"
   ]
  },
  {
   "cell_type": "code",
   "execution_count": null,
   "id": "7d024f58-af79-490b-b4da-1150e58b4f8b",
   "metadata": {},
   "outputs": [],
   "source": [
    "Skip the first 10 rows and read the rest of the CSV file\n",
    "\n",
    "pltr = pd.read_csv(\"market_data.csv\", skiprows=range(1, 11))"
   ]
  }
 ],
 "metadata": {
  "kernelspec": {
   "display_name": "Python 3 (ipykernel)",
   "language": "python",
   "name": "python3"
  },
  "language_info": {
   "codemirror_mode": {
    "name": "ipython",
    "version": 3
   },
   "file_extension": ".py",
   "mimetype": "text/x-python",
   "name": "python",
   "nbconvert_exporter": "python",
   "pygments_lexer": "ipython3",
   "version": "3.10.13"
  }
 },
 "nbformat": 4,
 "nbformat_minor": 5
}
