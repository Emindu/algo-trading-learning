{
 "cells": [
  {
   "cell_type": "code",
   "execution_count": 1,
   "id": "ebf426d7-49ef-4650-b4e3-d6a12a562052",
   "metadata": {},
   "outputs": [],
   "source": [
    "import exchange_calendars as xcals\n",
    "import pandas as pd\n",
    "from IPython.display import Markdown, display\n",
    "from openbb import obb\n",
    "from sqlalchemy import create_engine, text\n",
    "from sqlalchemy.exc import ProgrammingError"
   ]
  },
  {
   "cell_type": "code",
   "execution_count": 2,
   "id": "b0fdba48-5186-4d33-9336-62ee59fc591d",
   "metadata": {},
   "outputs": [],
   "source": [
    "obb.user.preferences.output_type = \"dataframe\""
   ]
  },
  {
   "cell_type": "code",
   "execution_count": 3,
   "id": "ad99eda4-7749-4f03-8547-d56ee94c75b6",
   "metadata": {},
   "outputs": [],
   "source": [
    "username = \"myuser\"\n",
    "password = \"mypassword\"\n",
    "host = \"127.0.0.1\"\n",
    "port = \"5432\"\n",
    "database = \"mydb\""
   ]
  },
  {
   "cell_type": "code",
   "execution_count": 4,
   "id": "16a94681-31dc-440d-bff6-ef484e4cdef4",
   "metadata": {},
   "outputs": [],
   "source": [
    "DATABASE_URL = f\"postgresql://{username}:{password}@{host}:{port}/postgres\"\n",
    "base_engine = create_engine(DATABASE_URL)"
   ]
  },
  {
   "cell_type": "code",
   "execution_count": 5,
   "id": "dd9ff2de-776d-46e0-9d69-580e3d3c647e",
   "metadata": {},
   "outputs": [],
   "source": [
    "def create_database_and_get_engine(db_name, base_engine):\n",
    "    conn = base_engine.connect()\n",
    "    conn = conn.execution_options(isolation_level=\"AUTOCOMMIT\")\n",
    "\n",
    "    try:\n",
    "        conn.execute(text(f\"CREATE DATABASE {db_name};\"))\n",
    "    except ProgrammingError:\n",
    "        pass\n",
    "    finally:\n",
    "        conn.close()\n",
    "\n",
    "    conn_str = base_engine.url.set(database=db_name)\n",
    "\n",
    "    return create_engine(conn_str)"
   ]
  },
  {
   "cell_type": "code",
   "execution_count": 6,
   "id": "135a0402-66af-419d-8827-839c8a7b7303",
   "metadata": {},
   "outputs": [],
   "source": [
    "def get_stock_data(symbol, start_date=None, end_date=None):\n",
    "    data = obb.equity.price.historical(\n",
    "        symbol=symbol,\n",
    "        start_date=start_date,\n",
    "        end_date=end_date,\n",
    "        provider=\"yfinance\",\n",
    "    )\n",
    "    data.reset_index(inplace=True)\n",
    "    data[\"symbol\"] = symbol\n",
    "    return data"
   ]
  },
  {
   "cell_type": "code",
   "execution_count": 7,
   "id": "653f2113-1358-4dc1-b25a-f8d8a0a844ed",
   "metadata": {},
   "outputs": [],
   "source": [
    "def save_data_range(symbol, engine, start_date=None, end_date=None):\n",
    "    data = get_stock_data(symbol, start_date, end_date)\n",
    "    data.to_sql(\"stock_data\", engine, if_exists=\"append\", index=False)"
   ]
  },
  {
   "cell_type": "code",
   "execution_count": 8,
   "id": "5fa7f605-3d24-43df-9642-2c408ab52541",
   "metadata": {},
   "outputs": [],
   "source": [
    "\n",
    "def save_last_trading_session(symbol, engine):\n",
    "    today = pd.Timestamp.today()\n",
    "    data = get_stock_data(symbol, today, today)\n",
    "    data.to_sql(\"stock_data\", engine, if_exists=\"append\", index=False)"
   ]
  },
  {
   "cell_type": "code",
   "execution_count": 9,
   "id": "c00a9055-c9ef-4c01-946e-68560210962d",
   "metadata": {},
   "outputs": [
    {
     "ename": "NameError",
     "evalue": "name 'engine' is not defined",
     "output_type": "error",
     "traceback": [
      "\u001b[0;31m---------------------------------------------------------------------------\u001b[0m",
      "\u001b[0;31mNameError\u001b[0m                                 Traceback (most recent call last)",
      "Cell \u001b[0;32mIn[9], line 3\u001b[0m\n\u001b[1;32m      1\u001b[0m \u001b[38;5;28;01mfor\u001b[39;00m symbol \u001b[38;5;129;01min\u001b[39;00m [\u001b[38;5;124m\"\u001b[39m\u001b[38;5;124mSPY\u001b[39m\u001b[38;5;124m\"\u001b[39m, \u001b[38;5;124m\"\u001b[39m\u001b[38;5;124mQQQ\u001b[39m\u001b[38;5;124m\"\u001b[39m, \u001b[38;5;124m\"\u001b[39m\u001b[38;5;124mDIA\u001b[39m\u001b[38;5;124m\"\u001b[39m]:\n\u001b[1;32m      2\u001b[0m     save_data_range(\n\u001b[0;32m----> 3\u001b[0m         symbol, engine\u001b[38;5;241m=\u001b[39m\u001b[43mengine\u001b[49m, start_date\u001b[38;5;241m=\u001b[39m\u001b[38;5;124m\"\u001b[39m\u001b[38;5;124m2020-06-01\u001b[39m\u001b[38;5;124m\"\u001b[39m, end_date\u001b[38;5;241m=\u001b[39m\u001b[38;5;124m\"\u001b[39m\u001b[38;5;124m2023-01-01\u001b[39m\u001b[38;5;124m\"\u001b[39m\n\u001b[1;32m      4\u001b[0m     )\n",
      "\u001b[0;31mNameError\u001b[0m: name 'engine' is not defined"
     ]
    }
   ],
   "source": [
    "for symbol in [\"SPY\", \"QQQ\", \"DIA\"]:\n",
    "    save_data_range(\n",
    "        symbol, engine=engine, start_date=\"2020-06-01\", end_date=\"2023-01-01\"\n",
    "    )"
   ]
  }
 ],
 "metadata": {
  "kernelspec": {
   "display_name": "Python 3 (ipykernel)",
   "language": "python",
   "name": "python3"
  },
  "language_info": {
   "codemirror_mode": {
    "name": "ipython",
    "version": 3
   },
   "file_extension": ".py",
   "mimetype": "text/x-python",
   "name": "python",
   "nbconvert_exporter": "python",
   "pygments_lexer": "ipython3",
   "version": "3.10.14"
  }
 },
 "nbformat": 4,
 "nbformat_minor": 5
}
