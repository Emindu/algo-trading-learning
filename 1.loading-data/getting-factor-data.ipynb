{
 "cells": [
  {
   "cell_type": "code",
   "execution_count": 4,
   "id": "c8bc9919-dbf8-4ebb-8cca-954431b5e839",
   "metadata": {},
   "outputs": [
    {
     "ename": "ModuleNotFoundError",
     "evalue": "No module named 'pandas_datareader'",
     "output_type": "error",
     "traceback": [
      "\u001b[0;31m---------------------------------------------------------------------------\u001b[0m",
      "\u001b[0;31mModuleNotFoundError\u001b[0m                       Traceback (most recent call last)",
      "Cell \u001b[0;32mIn[4], line 1\u001b[0m\n\u001b[0;32m----> 1\u001b[0m \u001b[38;5;28;01mimport\u001b[39;00m \u001b[38;5;21;01mpandas_datareader\u001b[39;00m \u001b[38;5;28;01mas\u001b[39;00m \u001b[38;5;21;01mpdr\u001b[39;00m\n",
      "\u001b[0;31mModuleNotFoundError\u001b[0m: No module named 'pandas_datareader'"
     ]
    }
   ],
   "source": [
    "import pandas_datareader as pdr"
   ]
  },
  {
   "cell_type": "code",
   "execution_count": null,
   "id": "a5c044d8-cf83-4576-bc03-5b43420f7450",
   "metadata": {},
   "outputs": [],
   "source": []
  },
  {
   "cell_type": "code",
   "execution_count": 5,
   "id": "89d1037c-34af-459b-829f-c14de1f080d5",
   "metadata": {},
   "outputs": [
    {
     "name": "stdout",
     "output_type": "stream",
     "text": [
      "Collecting pandas-datareader\n",
      "  Downloading pandas_datareader-0.10.0-py3-none-any.whl.metadata (2.9 kB)\n",
      "Requirement already satisfied: lxml in /opt/anaconda3/envs/my-quant-stack/lib/python3.10/site-packages (from pandas-datareader) (5.3.0)\n",
      "Requirement already satisfied: pandas>=0.23 in /opt/anaconda3/envs/my-quant-stack/lib/python3.10/site-packages (from pandas-datareader) (2.2.2)\n",
      "Requirement already satisfied: requests>=2.19.0 in /opt/anaconda3/envs/my-quant-stack/lib/python3.10/site-packages (from pandas-datareader) (2.32.3)\n",
      "Requirement already satisfied: numpy>=1.22.4 in /opt/anaconda3/envs/my-quant-stack/lib/python3.10/site-packages (from pandas>=0.23->pandas-datareader) (1.26.4)\n",
      "Requirement already satisfied: python-dateutil>=2.8.2 in /opt/anaconda3/envs/my-quant-stack/lib/python3.10/site-packages (from pandas>=0.23->pandas-datareader) (2.9.0.post0)\n",
      "Requirement already satisfied: pytz>=2020.1 in /opt/anaconda3/envs/my-quant-stack/lib/python3.10/site-packages (from pandas>=0.23->pandas-datareader) (2024.1)\n",
      "Requirement already satisfied: tzdata>=2022.7 in /opt/anaconda3/envs/my-quant-stack/lib/python3.10/site-packages (from pandas>=0.23->pandas-datareader) (2024.1)\n",
      "Requirement already satisfied: charset-normalizer<4,>=2 in /opt/anaconda3/envs/my-quant-stack/lib/python3.10/site-packages (from requests>=2.19.0->pandas-datareader) (3.3.2)\n",
      "Requirement already satisfied: idna<4,>=2.5 in /opt/anaconda3/envs/my-quant-stack/lib/python3.10/site-packages (from requests>=2.19.0->pandas-datareader) (3.7)\n",
      "Requirement already satisfied: urllib3<3,>=1.21.1 in /opt/anaconda3/envs/my-quant-stack/lib/python3.10/site-packages (from requests>=2.19.0->pandas-datareader) (2.2.2)\n",
      "Requirement already satisfied: certifi>=2017.4.17 in /opt/anaconda3/envs/my-quant-stack/lib/python3.10/site-packages (from requests>=2.19.0->pandas-datareader) (2024.7.4)\n",
      "Requirement already satisfied: six>=1.5 in /opt/anaconda3/envs/my-quant-stack/lib/python3.10/site-packages (from python-dateutil>=2.8.2->pandas>=0.23->pandas-datareader) (1.16.0)\n",
      "Downloading pandas_datareader-0.10.0-py3-none-any.whl (109 kB)\n",
      "Installing collected packages: pandas-datareader\n",
      "Successfully installed pandas-datareader-0.10.0\n"
     ]
    }
   ],
   "source": [
    "!pip install pandas-datareader\n"
   ]
  },
  {
   "cell_type": "code",
   "execution_count": 6,
   "id": "9a3ed0e9-c664-45d7-bf44-0b95d9193e29",
   "metadata": {},
   "outputs": [],
   "source": [
    "import pandas_datareader as pdr"
   ]
  },
  {
   "cell_type": "code",
   "execution_count": 7,
   "id": "4664a97f-5b2c-44bc-9561-0749800bff91",
   "metadata": {},
   "outputs": [
    {
     "name": "stderr",
     "output_type": "stream",
     "text": [
      "/var/folders/l8/wvmkld_n55xc9w_c94f4zj8c0000gn/T/ipykernel_81393/2643818942.py:1: FutureWarning: The argument 'date_parser' is deprecated and will be removed in a future version. Please use 'date_format' instead, or read your data in as 'object' dtype and then call 'to_datetime'.\n",
      "  factors = pdr.get_data_famafrench(\"F-F_Research_Data_Factors\")\n",
      "/var/folders/l8/wvmkld_n55xc9w_c94f4zj8c0000gn/T/ipykernel_81393/2643818942.py:1: FutureWarning: The argument 'date_parser' is deprecated and will be removed in a future version. Please use 'date_format' instead, or read your data in as 'object' dtype and then call 'to_datetime'.\n",
      "  factors = pdr.get_data_famafrench(\"F-F_Research_Data_Factors\")\n"
     ]
    }
   ],
   "source": [
    "factors = pdr.get_data_famafrench(\"F-F_Research_Data_Factors\")"
   ]
  },
  {
   "cell_type": "code",
   "execution_count": 9,
   "id": "338ca717-e81e-409b-866b-2bc33d58864d",
   "metadata": {},
   "outputs": [
    {
     "name": "stdout",
     "output_type": "stream",
     "text": [
      "F-F Research Data Factors\n",
      "-------------------------\n",
      "\n",
      "This file was created by CMPT_ME_BEME_RETS using the 202406 CRSP database. The 1-month TBill rate data until 202405 are from Ibbotson Associates. Starting from 202406, the 1-month TBill rate is from ICE BofA US 1-Month Treasury Bill Index. Copyright 2024 Kenneth R. French\n",
      "\n",
      "  0 : (59 rows x 4 cols)\n",
      "  1 : Annual Factors: January-December (5 rows x 4 cols)\n"
     ]
    }
   ],
   "source": [
    "print(factors[\"DESCR\"])"
   ]
  },
  {
   "cell_type": "code",
   "execution_count": 10,
   "id": "869b7d3e-6031-4635-8583-9e9c5405a959",
   "metadata": {},
   "outputs": [],
   "source": [
    "#Monthly factor"
   ]
  },
  {
   "cell_type": "code",
   "execution_count": 11,
   "id": "5141df96-beba-449b-a22d-6116aa6e9cca",
   "metadata": {},
   "outputs": [
    {
     "name": "stdout",
     "output_type": "stream",
     "text": [
      "         Mkt-RF   SMB   HML    RF\n",
      "Date                             \n",
      "2019-08   -2.58 -2.39 -4.79  0.16\n",
      "2019-09    1.43 -0.96  6.75  0.18\n",
      "2019-10    2.06  0.30 -1.90  0.16\n",
      "2019-11    3.88  0.79 -2.01  0.12\n",
      "2019-12    2.77  0.74  1.77  0.14\n"
     ]
    }
   ],
   "source": [
    "print(factors[0].head())"
   ]
  },
  {
   "cell_type": "code",
   "execution_count": 12,
   "id": "da743f35-7629-4e65-a3d2-0ba115fe4e3d",
   "metadata": {},
   "outputs": [],
   "source": [
    "#Annual Factors"
   ]
  },
  {
   "cell_type": "code",
   "execution_count": 13,
   "id": "efdd3c35-7441-4b4c-8843-98facf005b16",
   "metadata": {},
   "outputs": [
    {
     "name": "stdout",
     "output_type": "stream",
     "text": [
      "      Mkt-RF    SMB    HML    RF\n",
      "Date                            \n",
      "2019   28.28  -6.10 -10.41  2.15\n",
      "2020   23.66  13.20 -46.69  0.45\n",
      "2021   23.56  -3.86  25.46  0.04\n",
      "2022  -21.60  -6.97  26.07  1.43\n",
      "2023   21.70  -3.17 -13.80  4.95\n"
     ]
    }
   ],
   "source": [
    "print(factors[1].head())"
   ]
  }
 ],
 "metadata": {
  "kernelspec": {
   "display_name": "Python 3 (ipykernel)",
   "language": "python",
   "name": "python3"
  },
  "language_info": {
   "codemirror_mode": {
    "name": "ipython",
    "version": 3
   },
   "file_extension": ".py",
   "mimetype": "text/x-python",
   "name": "python",
   "nbconvert_exporter": "python",
   "pygments_lexer": "ipython3",
   "version": "3.10.14"
  }
 },
 "nbformat": 4,
 "nbformat_minor": 5
}
