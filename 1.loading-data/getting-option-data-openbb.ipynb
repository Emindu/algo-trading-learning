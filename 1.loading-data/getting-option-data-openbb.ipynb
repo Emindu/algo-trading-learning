{
 "cells": [
  {
   "cell_type": "code",
   "execution_count": 5,
   "id": "5c00143e-3ddc-4957-9d0b-84d448d48c1e",
   "metadata": {},
   "outputs": [],
   "source": [
    "from openbb import obb\n",
    "obb.user.preferences.output_type = \"dataframe\"\n"
   ]
  },
  {
   "cell_type": "code",
   "execution_count": 6,
   "id": "0fc514ad-469c-40dc-b355-6b8a7f4cf234",
   "metadata": {},
   "outputs": [],
   "source": [
    "chains = obb.derivatives.options.chains(symbol=\"SPY\")"
   ]
  },
  {
   "cell_type": "code",
   "execution_count": 7,
   "id": "1fa487dd-62ec-4f57-805e-c12fb9da9031",
   "metadata": {},
   "outputs": [
    {
     "name": "stdout",
     "output_type": "stream",
     "text": [
      "<class 'pandas.core.frame.DataFrame'>\n",
      "RangeIndex: 9734 entries, 0 to 9733\n",
      "Data columns (total 29 columns):\n",
      " #   Column              Non-Null Count  Dtype         \n",
      "---  ------              --------------  -----         \n",
      " 0   underlying_symbol   9734 non-null   object        \n",
      " 1   underlying_price    9734 non-null   float64       \n",
      " 2   contract_symbol     9734 non-null   object        \n",
      " 3   expiration          9734 non-null   object        \n",
      " 4   dte                 9734 non-null   int64         \n",
      " 5   strike              9734 non-null   float64       \n",
      " 6   option_type         9734 non-null   object        \n",
      " 7   open_interest       9734 non-null   int64         \n",
      " 8   volume              9734 non-null   int64         \n",
      " 9   theoretical_price   9734 non-null   float64       \n",
      " 10  last_trade_price    9734 non-null   float64       \n",
      " 11  last_trade_time     7266 non-null   datetime64[ns]\n",
      " 12  tick                9734 non-null   object        \n",
      " 13  bid                 9734 non-null   float64       \n",
      " 14  bid_size            9734 non-null   int64         \n",
      " 15  ask                 9734 non-null   float64       \n",
      " 16  ask_size            9734 non-null   int64         \n",
      " 17  open                9734 non-null   float64       \n",
      " 18  high                9734 non-null   float64       \n",
      " 19  low                 9734 non-null   float64       \n",
      " 20  prev_close          9734 non-null   float64       \n",
      " 21  change              9734 non-null   float64       \n",
      " 22  change_percent      9734 non-null   float64       \n",
      " 23  implied_volatility  9734 non-null   float64       \n",
      " 24  delta               9734 non-null   float64       \n",
      " 25  gamma               9734 non-null   float64       \n",
      " 26  theta               9734 non-null   float64       \n",
      " 27  vega                9734 non-null   float64       \n",
      " 28  rho                 9734 non-null   float64       \n",
      "dtypes: datetime64[ns](1), float64(18), int64(5), object(5)\n",
      "memory usage: 2.2+ MB\n"
     ]
    }
   ],
   "source": [
    "chains.info()"
   ]
  },
  {
   "cell_type": "code",
   "execution_count": 8,
   "id": "51008ae2-22ba-4921-8470-93708c7c2ff8",
   "metadata": {},
   "outputs": [],
   "source": [
    "#Downloading history of a option chain for a selected option symbol\n"
   ]
  },
  {
   "cell_type": "code",
   "execution_count": 9,
   "id": "25ab40fc-700b-44d0-83d4-a8052a0e9558",
   "metadata": {},
   "outputs": [],
   "source": [
    "data = obb.equity.price.historical(symbol=\"SPY241220C00550000\",provider=\"yfinance\")[[\"close\", \"volume\"]]"
   ]
  },
  {
   "cell_type": "code",
   "execution_count": 10,
   "id": "0afc04af-dbcb-4694-bdea-858a2e6ea774",
   "metadata": {},
   "outputs": [
    {
     "data": {
      "text/html": [
       "<div>\n",
       "<style scoped>\n",
       "    .dataframe tbody tr th:only-of-type {\n",
       "        vertical-align: middle;\n",
       "    }\n",
       "\n",
       "    .dataframe tbody tr th {\n",
       "        vertical-align: top;\n",
       "    }\n",
       "\n",
       "    .dataframe thead th {\n",
       "        text-align: right;\n",
       "    }\n",
       "</style>\n",
       "<table border=\"1\" class=\"dataframe\">\n",
       "  <thead>\n",
       "    <tr style=\"text-align: right;\">\n",
       "      <th></th>\n",
       "      <th>close</th>\n",
       "      <th>volume</th>\n",
       "    </tr>\n",
       "    <tr>\n",
       "      <th>date</th>\n",
       "      <th></th>\n",
       "      <th></th>\n",
       "    </tr>\n",
       "  </thead>\n",
       "  <tbody>\n",
       "    <tr>\n",
       "      <th>2023-08-24</th>\n",
       "      <td>4.000000</td>\n",
       "      <td>27</td>\n",
       "    </tr>\n",
       "    <tr>\n",
       "      <th>2023-08-25</th>\n",
       "      <td>4.450000</td>\n",
       "      <td>9</td>\n",
       "    </tr>\n",
       "    <tr>\n",
       "      <th>2023-08-28</th>\n",
       "      <td>4.450000</td>\n",
       "      <td>18</td>\n",
       "    </tr>\n",
       "    <tr>\n",
       "      <th>2023-08-29</th>\n",
       "      <td>5.150000</td>\n",
       "      <td>8</td>\n",
       "    </tr>\n",
       "    <tr>\n",
       "      <th>2023-08-30</th>\n",
       "      <td>5.610000</td>\n",
       "      <td>55</td>\n",
       "    </tr>\n",
       "    <tr>\n",
       "      <th>...</th>\n",
       "      <td>...</td>\n",
       "      <td>...</td>\n",
       "    </tr>\n",
       "    <tr>\n",
       "      <th>2024-08-19</th>\n",
       "      <td>28.170000</td>\n",
       "      <td>219</td>\n",
       "    </tr>\n",
       "    <tr>\n",
       "      <th>2024-08-20</th>\n",
       "      <td>28.770000</td>\n",
       "      <td>44</td>\n",
       "    </tr>\n",
       "    <tr>\n",
       "      <th>2024-08-21</th>\n",
       "      <td>30.040001</td>\n",
       "      <td>35</td>\n",
       "    </tr>\n",
       "    <tr>\n",
       "      <th>2024-08-22</th>\n",
       "      <td>27.320000</td>\n",
       "      <td>76</td>\n",
       "    </tr>\n",
       "    <tr>\n",
       "      <th>2024-08-23</th>\n",
       "      <td>30.200001</td>\n",
       "      <td>0</td>\n",
       "    </tr>\n",
       "  </tbody>\n",
       "</table>\n",
       "<p>245 rows × 2 columns</p>\n",
       "</div>"
      ],
      "text/plain": [
       "                close  volume\n",
       "date                         \n",
       "2023-08-24   4.000000      27\n",
       "2023-08-25   4.450000       9\n",
       "2023-08-28   4.450000      18\n",
       "2023-08-29   5.150000       8\n",
       "2023-08-30   5.610000      55\n",
       "...               ...     ...\n",
       "2024-08-19  28.170000     219\n",
       "2024-08-20  28.770000      44\n",
       "2024-08-21  30.040001      35\n",
       "2024-08-22  27.320000      76\n",
       "2024-08-23  30.200001       0\n",
       "\n",
       "[245 rows x 2 columns]"
      ]
     },
     "execution_count": 10,
     "metadata": {},
     "output_type": "execute_result"
    }
   ],
   "source": [
    "data"
   ]
  },
  {
   "cell_type": "code",
   "execution_count": 11,
   "id": "5f1b200c-c6bf-4a63-b4ea-a69ba7af10e0",
   "metadata": {},
   "outputs": [
    {
     "data": {
      "text/plain": [
       "'\\nOption Greeks are financial metrics that help traders understand how the price of an option is likely to change in response to different factors. They measure the sensitivity of an option’s price to various variables, such as changes in the underlying asset’s price, time, volatility, and interest rates.\\n\\nKey Option Greeks:\\n\\n\\t1.\\tDelta (Δ): Measures how much the option’s price is expected to change for a $1 change in the underlying asset’s price.\\n\\t2.\\tGamma (Γ): Measures the rate of change of Delta, indicating how Delta will change as the underlying asset’s price changes.\\n\\t3.\\tTheta (Θ): Measures how much the option’s price is expected to change as time passes, reflecting time decay.\\n\\t4.\\tVega (ν): Measures how much the option’s price is expected to change for a 1% change in the underlying asset’s volatility.\\n\\t5.\\tRho (ρ): Measures how much the option’s price is expected to change for a 1% change in interest rates.\\n\\nThese Greeks are essential tools for options traders to manage risk and make informed trading decisions.\\n'"
      ]
     },
     "execution_count": 11,
     "metadata": {},
     "output_type": "execute_result"
    }
   ],
   "source": [
    "'''\n",
    "Option Greeks are financial metrics that help traders understand how the price of an option is likely to change in response to different factors. They measure the sensitivity of an option’s price to various variables, such as changes in the underlying asset’s price, time, volatility, and interest rates.\n",
    "\n",
    "Key Option Greeks:\n",
    "\n",
    "\t1.\tDelta (Δ): Measures how much the option’s price is expected to change for a $1 change in the underlying asset’s price.\n",
    "\t2.\tGamma (Γ): Measures the rate of change of Delta, indicating how Delta will change as the underlying asset’s price changes.\n",
    "\t3.\tTheta (Θ): Measures how much the option’s price is expected to change as time passes, reflecting time decay.\n",
    "\t4.\tVega (ν): Measures how much the option’s price is expected to change for a 1% change in the underlying asset’s volatility.\n",
    "\t5.\tRho (ρ): Measures how much the option’s price is expected to change for a 1% change in interest rates.\n",
    "\n",
    "These Greeks are essential tools for options traders to manage risk and make informed trading decisions.\n",
    "'''"
   ]
  }
 ],
 "metadata": {
  "kernelspec": {
   "display_name": "Python 3 (ipykernel)",
   "language": "python",
   "name": "python3"
  },
  "language_info": {
   "codemirror_mode": {
    "name": "ipython",
    "version": 3
   },
   "file_extension": ".py",
   "mimetype": "text/x-python",
   "name": "python",
   "nbconvert_exporter": "python",
   "pygments_lexer": "ipython3",
   "version": "3.10.14"
  }
 },
 "nbformat": 4,
 "nbformat_minor": 5
}
